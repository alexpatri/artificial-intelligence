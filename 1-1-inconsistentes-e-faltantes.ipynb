{
  "cells": [
    {
      "cell_type": "markdown",
      "metadata": {
        "id": "view-in-github",
        "colab_type": "text"
      },
      "source": [
        "<a href=\"https://colab.research.google.com/github/alexpatri/artificial-intelligence/blob/main/1-1-inconsistentes-e-faltantes.ipynb\" target=\"_parent\"><img src=\"https://colab.research.google.com/assets/colab-badge.svg\" alt=\"Open In Colab\"/></a>"
      ]
    },
    {
      "cell_type": "markdown",
      "metadata": {
        "id": "bdeWF9k0L2YT"
      },
      "source": [
        "# Pré processamento de dados"
      ]
    },
    {
      "cell_type": "markdown",
      "metadata": {
        "id": "hfYbHgghOW5g"
      },
      "source": [
        "# Importação das bibliotecas básicas"
      ]
    },
    {
      "cell_type": "code",
      "execution_count": 1,
      "metadata": {
        "id": "5ze8NUjjrONM"
      },
      "outputs": [],
      "source": [
        "import pandas as pd\n",
        "import random"
      ]
    },
    {
      "cell_type": "code",
      "source": [
        "from google.colab import drive\n",
        "drive.mount('/content/drive')"
      ],
      "metadata": {
        "colab": {
          "base_uri": "https://localhost:8080/"
        },
        "id": "xFv7nCmX-cZD",
        "outputId": "60e509c7-537d-4d88-c0d4-eb47c1d01d88"
      },
      "execution_count": 3,
      "outputs": [
        {
          "output_type": "stream",
          "name": "stdout",
          "text": [
            "Mounted at /content/drive\n"
          ]
        }
      ]
    },
    {
      "cell_type": "markdown",
      "metadata": {
        "id": "oCVRZFuyXPR9"
      },
      "source": [
        "### Exploração dos dados"
      ]
    },
    {
      "cell_type": "code",
      "execution_count": null,
      "metadata": {
        "id": "4F1_sCWKqPKS"
      },
      "outputs": [],
      "source": [
        "# from google.colab import files\n",
        "# uploaded = files.upload()"
      ]
    },
    {
      "cell_type": "code",
      "execution_count": 5,
      "metadata": {
        "id": "FRossbEzrqXO"
      },
      "outputs": [],
      "source": [
        "#Importar dataset\n",
        "base_credit = pd.read_csv('/content/drive/MyDrive/ia/data/credit_data.csv')"
      ]
    },
    {
      "cell_type": "code",
      "execution_count": null,
      "metadata": {
        "id": "6HVmW122rqfx"
      },
      "outputs": [],
      "source": [
        "#Exibir dataset\n",
        "base_credit"
      ]
    },
    {
      "cell_type": "code",
      "execution_count": null,
      "metadata": {
        "id": "eoO1-GAsrqmX"
      },
      "outputs": [],
      "source": [
        "#Exibir as 10 primeiras linhas do dataset\n",
        "base_credit.head(10)"
      ]
    },
    {
      "cell_type": "code",
      "execution_count": null,
      "metadata": {
        "id": "X6SVla_arqs7"
      },
      "outputs": [],
      "source": [
        "#Exibit as 10 últimas linhas do dataset\n",
        "base_credit.tail(10)"
      ]
    },
    {
      "cell_type": "code",
      "execution_count": null,
      "metadata": {
        "id": "VXMIqOnCrqyv"
      },
      "outputs": [],
      "source": [
        "#Descrição dos dados\n",
        "base_credit.describe()"
      ]
    },
    {
      "cell_type": "code",
      "execution_count": null,
      "metadata": {
        "id": "_lUDAn25r5zu"
      },
      "outputs": [],
      "source": [
        "#Informações dos dados\n",
        "base_credit.info()"
      ]
    },
    {
      "cell_type": "markdown",
      "metadata": {
        "id": "9JL8G9jQXTLF"
      },
      "source": [
        "### Tratamento de valores inconsistentes"
      ]
    },
    {
      "cell_type": "code",
      "execution_count": null,
      "metadata": {
        "id": "3DggTX_IHj77"
      },
      "outputs": [],
      "source": [
        "base_credit.default.value_counts()"
      ]
    },
    {
      "cell_type": "code",
      "execution_count": null,
      "metadata": {
        "id": "t15KQahxrrCH"
      },
      "outputs": [],
      "source": [
        "#Pegar os valores menores que zero na coluna de idades\n",
        "base_credit.loc[base_credit['age'] < 0]"
      ]
    },
    {
      "cell_type": "code",
      "execution_count": null,
      "metadata": {
        "id": "jgVVtdOJsYzS"
      },
      "outputs": [],
      "source": [
        "# Apagar a coluna inteira (de todos os registros da base de dados)\n",
        "\n",
        "base_credit2 = base_credit.drop('age', axis = 1)\n",
        "base_credit2"
      ]
    },
    {
      "cell_type": "code",
      "execution_count": null,
      "metadata": {
        "id": "7PRlahYzsY7M"
      },
      "outputs": [],
      "source": [
        "# Checar o indice\n",
        "base_credit.index"
      ]
    },
    {
      "cell_type": "code",
      "execution_count": null,
      "metadata": {
        "id": "rz_A-U3PsZBN"
      },
      "outputs": [],
      "source": [
        "#Checar o indice mediante condicional de idade\n",
        "\n",
        "base_credit[base_credit['age'] < 0].index"
      ]
    },
    {
      "cell_type": "code",
      "execution_count": null,
      "metadata": {
        "id": "FNNSDSPLsZGt"
      },
      "outputs": [],
      "source": [
        "# Apagar somente os registros com valores inconsistentes\n",
        "base_credit3 = base_credit.drop(base_credit[base_credit['age'] < 0].index)\n",
        "base_credit3"
      ]
    },
    {
      "cell_type": "code",
      "execution_count": null,
      "metadata": {
        "id": "ugXTer5mHj77"
      },
      "outputs": [],
      "source": [
        "base_credit3['age'].mean()"
      ]
    },
    {
      "cell_type": "code",
      "execution_count": null,
      "metadata": {
        "id": "zbiIVbFMsZR8"
      },
      "outputs": [],
      "source": [
        "# Vamos averiguar se foi excluído\n",
        "base_credit3.loc[base_credit3['age']<0]"
      ]
    },
    {
      "cell_type": "code",
      "execution_count": null,
      "metadata": {
        "id": "X-OCEr70sZXP"
      },
      "outputs": [],
      "source": [
        "# calcular a media da base de dados\n",
        "base_credit.mean()"
      ]
    },
    {
      "cell_type": "code",
      "execution_count": null,
      "metadata": {
        "id": "5CW9JTCUsZb8"
      },
      "outputs": [],
      "source": [
        "# Calcular a media de uma coluna na base de dados\n",
        "base_credit['age'].mean()"
      ]
    },
    {
      "cell_type": "code",
      "execution_count": null,
      "metadata": {
        "id": "x6Hms0wrsZhA"
      },
      "outputs": [],
      "source": [
        "# Calcular a media da coluna onde os numeros são maiores que zero\n",
        "base_credit['age'][base_credit['age'] > 0].mean()"
      ]
    },
    {
      "cell_type": "code",
      "execution_count": null,
      "metadata": {
        "id": "wlMxxEw2sZl6"
      },
      "outputs": [],
      "source": [
        "# Atribuir a media a coluna\n",
        "base_credit.loc[base_credit['age'] < 0, 'age'] = 40.92"
      ]
    },
    {
      "cell_type": "markdown",
      "metadata": {
        "id": "JpDM1Er1obkO"
      },
      "source": [
        "### Tratamento de valores faltantes"
      ]
    },
    {
      "cell_type": "code",
      "execution_count": null,
      "metadata": {
        "id": "_oYbloV9rrK9"
      },
      "outputs": [],
      "source": [
        "# checar se há valores nulos\n",
        "base_credit.isnull()\n",
        "base_credit.isna()"
      ]
    },
    {
      "cell_type": "code",
      "execution_count": null,
      "metadata": {
        "id": "zHtg_l0ErrGc"
      },
      "outputs": [],
      "source": [
        "# Somar a quantidade de valores nulos\n",
        "base_credit.isnull().sum()"
      ]
    },
    {
      "cell_type": "code",
      "execution_count": null,
      "metadata": {
        "id": "zkuoKSdUrrPY"
      },
      "outputs": [],
      "source": [
        "# Pegar a coluna da idade nas linhas onde tem valores nulos\n",
        "base_credit.loc[pd.isnull(base_credit['age'])]"
      ]
    },
    {
      "cell_type": "code",
      "execution_count": null,
      "metadata": {
        "id": "0cuPhEzBrrTm"
      },
      "outputs": [],
      "source": [
        "# Preencher as linhas com as medias das idades\n",
        "base_credit['age'].fillna(base_credit['age'].mean(), inplace = True)"
      ]
    },
    {
      "cell_type": "code",
      "execution_count": null,
      "metadata": {
        "id": "Bd6KG304rrXY"
      },
      "outputs": [],
      "source": [
        "# Verificar se há valores nulos\n",
        "base_credit.loc[pd.isnull(base_credit['age'])]"
      ]
    },
    {
      "cell_type": "code",
      "execution_count": null,
      "metadata": {
        "id": "-Z3STrWj7w5S"
      },
      "outputs": [],
      "source": [
        "base = base_credit.loc[:, 'age'].values"
      ]
    },
    {
      "cell_type": "code",
      "execution_count": null,
      "metadata": {
        "id": "KwwGu34x75hX"
      },
      "outputs": [],
      "source": [
        "type(base)"
      ]
    },
    {
      "cell_type": "code",
      "execution_count": null,
      "metadata": {
        "id": "-2Q-2-CHtnL-"
      },
      "outputs": [],
      "source": [
        "# Verificar pelos valores contidos"
      ]
    },
    {
      "cell_type": "code",
      "execution_count": null,
      "metadata": {
        "id": "qS39s8OBHj78"
      },
      "outputs": [],
      "source": [
        "import numpy as np"
      ]
    },
    {
      "cell_type": "code",
      "execution_count": null,
      "metadata": {
        "id": "q8kbZDR5tnYo"
      },
      "outputs": [],
      "source": [
        "from sklearn.impute import SimpleImputer\n",
        "imputer = SimpleImputer(missing_values=np.nan, strategy='mean')\n",
        "imputer.fit(base_credit.iloc[:, 1:3])\n"
      ]
    },
    {
      "cell_type": "code",
      "execution_count": null,
      "metadata": {
        "id": "dinfJFeLHj78"
      },
      "outputs": [],
      "source": [
        "base_credit.iloc[:, 1:3] = imputer.transform(base_credit.iloc[:, 1:3])"
      ]
    },
    {
      "cell_type": "markdown",
      "metadata": {
        "id": "IxwOZ0-NHj79"
      },
      "source": [
        "### Problema de Distribuição"
      ]
    },
    {
      "cell_type": "code",
      "execution_count": null,
      "metadata": {
        "tags": [],
        "id": "G02oF6gPHj79"
      },
      "outputs": [],
      "source": [
        "import random\n",
        "random.seed(32)"
      ]
    },
    {
      "cell_type": "code",
      "execution_count": null,
      "metadata": {
        "tags": [],
        "id": "2GRuCcqKHj79"
      },
      "outputs": [],
      "source": [
        "#Importar dataset\n",
        "base_credit = pd.read_csv('credit_data.csv')"
      ]
    },
    {
      "cell_type": "code",
      "execution_count": null,
      "metadata": {
        "tags": [],
        "id": "01tgpQBKHj8H"
      },
      "outputs": [],
      "source": [
        "ran_int = random.sample(range(0,len(base_credit)),200)"
      ]
    },
    {
      "cell_type": "code",
      "execution_count": null,
      "metadata": {
        "tags": [],
        "id": "m7ZWM2rtHj8H"
      },
      "outputs": [],
      "source": [
        "import numpy as np"
      ]
    },
    {
      "cell_type": "code",
      "execution_count": null,
      "metadata": {
        "tags": [],
        "id": "CEgysSJEHj8H"
      },
      "outputs": [],
      "source": [
        "base_credit.loc[ran_int,'age'] = np.nan"
      ]
    },
    {
      "cell_type": "code",
      "execution_count": null,
      "metadata": {
        "tags": [],
        "id": "toFEkxZkHj8H"
      },
      "outputs": [],
      "source": [
        "base_credit[base_credit['age'] <= 0] = np.nan"
      ]
    },
    {
      "cell_type": "code",
      "execution_count": null,
      "metadata": {
        "tags": [],
        "id": "u_yrsruvHj8H",
        "outputId": "29ddf3c4-81e2-4ed9-e0df-9b18b25abe70"
      },
      "outputs": [
        {
          "data": {
            "text/plain": [
              "<Axes: xlabel='age', ylabel='Count'>"
            ]
          },
          "execution_count": 23,
          "metadata": {},
          "output_type": "execute_result"
        },
        {
          "data": {
            "image/png": "[encoded data removed]",
            "text/plain": [
              "<Figure size 640x480 with 1 Axes>"
            ]
          },
          "metadata": {},
          "output_type": "display_data"
        }
      ],
      "source": [
        "import seaborn as sns\n",
        "sns.histplot(data = base_credit, x = 'age')"
      ]
    },
    {
      "cell_type": "code",
      "execution_count": null,
      "metadata": {
        "tags": [],
        "id": "jkrvAGA3Hj8I"
      },
      "outputs": [],
      "source": [
        "from sklearn.impute import SimpleImputer\n",
        "imputer = SimpleImputer(missing_values=np.nan, strategy='mean')\n",
        "imputer.fit(base_credit.loc[:, ['age']])\n",
        "base_credit.loc[:, ['age']] = imputer.transform(base_credit.loc[:, ['age']])"
      ]
    },
    {
      "cell_type": "code",
      "execution_count": null,
      "metadata": {
        "tags": [],
        "id": "_21MBAqzHj8I",
        "outputId": "8e4672c5-c6f4-4db9-8ce3-8ab415e35a83"
      },
      "outputs": [
        {
          "data": {
            "text/plain": [
              "<Axes: xlabel='age', ylabel='Count'>"
            ]
          },
          "execution_count": 27,
          "metadata": {},
          "output_type": "execute_result"
        },
        {
          "data": {
            "image/png": "[encoded data removed]",
            "text/plain": [
              "<Figure size 640x480 with 1 Axes>"
            ]
          },
          "metadata": {},
          "output_type": "display_data"
        }
      ],
      "source": [
        "sns.histplot(data = base_credit, x = 'age')"
      ]
    }
  ],
  "metadata": {
    "colab": {
      "provenance": [],
      "include_colab_link": true
    },
    "kernelspec": {
      "display_name": "MachineLearning",
      "language": "python",
      "name": "machinelearning"
    },
    "language_info": {
      "codemirror_mode": {
        "name": "ipython",
        "version": 3
      },
      "file_extension": ".py",
      "mimetype": "text/x-python",
      "name": "python",
      "nbconvert_exporter": "python",
      "pygments_lexer": "ipython3",
      "version": "3.11.5"
    }
  },
  "nbformat": 4,
  "nbformat_minor": 0
}